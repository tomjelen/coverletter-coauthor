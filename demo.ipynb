{
 "cells": [
  {
   "cell_type": "markdown",
   "metadata": {},
   "source": [
    "# Demo / test client\n",
    "\n",
    "First, start the API with `make serve-dev`"
   ]
  },
  {
   "cell_type": "code",
   "execution_count": 4,
   "metadata": {},
   "outputs": [],
   "source": [
    "applicant_name = \"Tom Jelen\"\n",
    "job_description = \"\"\"\n",
    "# Aquatic Surface Maintenance Technician\n",
    "\n",
    "Seeking a detail-oriented individual for our Aquatic Surface Maintenance team.\n",
    "\n",
    "You'll be responsible for restoring ceramic vessels to optimal hygienic conditions using specialized tools and\n",
    "solutions. The ideal candidate demonstrates exceptional attention to detail, works well independently, and can\n",
    "maintain composure in potentially fragrant environments. Your efforts will directly impact visitor experience\n",
    "and facility reputation.\n",
    "\n",
    "Join us in preserving the pristine condition of our most frequently utilized private chambers—where every\n",
    "successful treatment leaves a lasting impression!\n",
    "\"\"\""
   ]
  },
  {
   "cell_type": "code",
   "execution_count": 5,
   "metadata": {},
   "outputs": [
    {
     "data": {
      "text/markdown": [
       "# Tom Jelen  \n",
       "[Your Address]  \n",
       "[City, State, ZIP Code]  \n",
       "[Your Email Address]  \n",
       "[Your Phone Number]  \n",
       "[Date]\n",
       "\n",
       "Hiring Manager  \n",
       "[Company/Organization Name]  \n",
       "[Company Address]  \n",
       "[City, State, ZIP Code]\n",
       "\n",
       "Dear Hiring Manager,\n",
       "\n",
       "I am writing to express my interest in the Aquatic Surface Maintenance Technician position at your esteemed organization. With a strong background in maintenance and a keen eye for detail, I am excited about the opportunity to contribute to preserving the pristine condition of your private chambers and enhancing visitor experience.\n",
       "\n",
       "Throughout my professional experience, I have developed a meticulous approach to maintaining sensitive and specialized environments. I am comfortable working independently, managing my tasks efficiently while ensuring the highest standards of cleanliness and hygiene. My ability to remain composed in challenging or fragrant environments has been a key aspect of my success in previous roles focused on sanitation and surface restoration.\n",
       "\n",
       "In particular, I am skilled in handling specialized tools and solutions necessary for restoring ceramic surfaces to their optimal hygienic state. My attention to detail ensures that every surface is thoroughly cleaned, leaving a lasting impression and supporting the reputation of the facility. I understand the importance of this role in contributing to a positive visitor experience and the overall maintenance of the facility’s integrity.\n",
       "\n",
       "Additionally, my strong work ethic, reliability, and commitment to excellence make me well-suited for this position. I am eager to bring my dedication and skills to your team, helping to maintain the high standards that your organization upholds.\n",
       "\n",
       "Thank you for considering my application. I welcome the opportunity to discuss how my experience and enthusiasm can benefit your organization. I look forward to the possibility of contributing to your team as an Aquatic Surface Maintenance Technician.\n",
       "\n",
       "Sincerely,  \n",
       "Tom Jelen"
      ],
      "text/plain": [
       "<IPython.core.display.Markdown object>"
      ]
     },
     "execution_count": 5,
     "metadata": {},
     "output_type": "execute_result"
    }
   ],
   "source": [
    "import httpx\n",
    "from IPython.display import Markdown\n",
    "\n",
    "url = \"http://127.0.0.1:55446/coverletters/generate\"\n",
    "\n",
    "payload = {\n",
    "    \"job_description\": job_description,\n",
    "    \"applicant_name\": applicant_name,\n",
    "}\n",
    "\n",
    "with httpx.Client() as client:\n",
    "    response = client.post(url, json=payload)\n",
    "\n",
    "assert response.status_code == 200, response.text\n",
    "\n",
    "cover_letter = response.json()[\"cover_letter_markdown\"]\n",
    "\n",
    "Markdown(cover_letter)"
   ]
  }
 ],
 "metadata": {
  "kernelspec": {
   "display_name": "venv",
   "language": "python",
   "name": "python3"
  },
  "language_info": {
   "codemirror_mode": {
    "name": "ipython",
    "version": 3
   },
   "file_extension": ".py",
   "mimetype": "text/x-python",
   "name": "python",
   "nbconvert_exporter": "python",
   "pygments_lexer": "ipython3",
   "version": "3.12.3"
  }
 },
 "nbformat": 4,
 "nbformat_minor": 2
}
